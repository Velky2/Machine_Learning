{
 "cells": [
  {
   "cell_type": "markdown",
   "id": "d054a297-80a5-485a-aa27-fc61ec1a01bc",
   "metadata": {},
   "source": [
    "# 🌋 Aprendendo itertools"
   ]
  },
  {
   "cell_type": "markdown",
   "id": "80266cd8-3bc3-411d-a319-09c79521ad0f",
   "metadata": {},
   "source": [
    "Esse notebook visa aprender sobre alguns dos módulos do itertools. Serão vistos: "
   ]
  },
  {
   "cell_type": "code",
   "execution_count": 1,
   "id": "12000585-d8d8-4fbf-af03-7d4179235134",
   "metadata": {},
   "outputs": [],
   "source": [
    "import itertools"
   ]
  },
  {
   "cell_type": "markdown",
   "id": "e51c51ce-6683-43a2-b27a-4ffee23b94f5",
   "metadata": {},
   "source": [
    "### ✖️ 1. Product"
   ]
  },
  {
   "cell_type": "markdown",
   "id": "bf9239c5-9f8e-4e78-a37c-7049e6ecf2e5",
   "metadata": {},
   "source": [
    "Cria todas as permutações possíveis entre objetos iteráveis (string, list e dicionários por exemplo)."
   ]
  },
  {
   "cell_type": "code",
   "execution_count": 39,
   "id": "ea8202e2-be7d-46a5-a868-8886e8b532eb",
   "metadata": {},
   "outputs": [
    {
     "data": {
      "text/plain": [
       "[('A', 1), ('A', 2), ('B', 1), ('B', 2), ('C', 1), ('C', 2)]"
      ]
     },
     "execution_count": 39,
     "metadata": {},
     "output_type": "execute_result"
    }
   ],
   "source": [
    "possibilities = [\"A\", \"B\", \"C\"]\n",
    "numbers = [1, 2]\n",
    "list(itertools.product(possibilities, numbers))\n",
    "#Pode-se usar repeat=x, repetindo x vezes cada possibilidade (standard é 1)"
   ]
  },
  {
   "cell_type": "markdown",
   "id": "16c7438e-8019-44d3-ad28-1b274eb3d86f",
   "metadata": {},
   "source": [
    "No Exame de Mago de Primeira Classe, o trio de Fern teve que decidir quem enfrentaria cada um do time de Wirbel. Para isso, necessitavam saber todas as possibilidades possíveis de confronto."
   ]
  },
  {
   "cell_type": "markdown",
   "id": "14583925-4e0f-480a-ad3d-53426c6c8f1d",
   "metadata": {},
   "source": [
    "<div align=\"center\">\n",
    "    <img src=\"https://preview.redd.it/did-fern-learn-her-fighting-style-from-qual-v0-ajih1c2a0vhc1.gif?width=640&crop=smart&auto=webp&s=4c79583a26d23170c27d068e97e673beb32c142f\" alt=\"Fern vs Ehre\" width=\"500\">\n",
    "</div>"
   ]
  },
  {
   "cell_type": "code",
   "execution_count": 30,
   "id": "bb918bbc-23df-4a54-8f4a-4200b6db33a3",
   "metadata": {},
   "outputs": [
    {
     "data": {
      "text/plain": [
       "[('Fern', 'Wirbel'),\n",
       " ('Fern', 'Ehre'),\n",
       " ('Fern', 'Scharf'),\n",
       " ('Ubel', 'Wirbel'),\n",
       " ('Ubel', 'Ehre'),\n",
       " ('Ubel', 'Scharf'),\n",
       " ('Land', 'Wirbel'),\n",
       " ('Land', 'Ehre'),\n",
       " ('Land', 'Scharf')]"
      ]
     },
     "execution_count": 30,
     "metadata": {},
     "output_type": "execute_result"
    }
   ],
   "source": [
    "fern_team = [\"Fern\", \"Ubel\", \"Land\"]\n",
    "wirbel_team = [\"Wirbel\", \"Ehre\", \"Scharf\"]\n",
    "list(itertools.product(fern_team, wirbel_team))"
   ]
  },
  {
   "cell_type": "markdown",
   "id": "9cc56c5f-453f-4f7e-acf0-78ef1b712cb4",
   "metadata": {},
   "source": [
    "Analisando cada possibilidade, o time de Fern ganhou todos os confrontos desse entrave e obtiveram o passarinho da equipe rival."
   ]
  },
  {
   "cell_type": "markdown",
   "id": "474c3d00-ddc6-426a-8147-e981649dabde",
   "metadata": {},
   "source": [
    "### 🔀 2. Permutations"
   ]
  },
  {
   "cell_type": "markdown",
   "id": "9ff4e49f-4944-46ee-a846-7d5af27b5c11",
   "metadata": {},
   "source": [
    "O módulo permutations do itertools recebe um iterável e um int com qual o tamanho dos resultados. Com isso ele faz todas as combinações possíveis. Ele difere de product por se tratar das permutações dentro de seus próprios elementos."
   ]
  },
  {
   "cell_type": "code",
   "execution_count": 37,
   "id": "c04efb33-9c58-4117-9832-1a636c2a2368",
   "metadata": {},
   "outputs": [
    {
     "name": "stdout",
     "output_type": "stream",
     "text": [
      "[('A', 'B'), ('A', 'C'), ('B', 'A'), ('B', 'C'), ('C', 'A'), ('C', 'B')]\n",
      "[('A', 'B', 'C'), ('A', 'C', 'B'), ('B', 'A', 'C'), ('B', 'C', 'A'), ('C', 'A', 'B'), ('C', 'B', 'A')]\n"
     ]
    }
   ],
   "source": [
    "print(list(itertools.permutations(\"ABC\", 2)))\n",
    "print(list(itertools.permutations(\"ABC\", 3)))\n",
    "#É importante notar que ele considera as posições como relevantes"
   ]
  },
  {
   "cell_type": "markdown",
   "id": "fb7bcb6b-28b5-4419-b224-2a54c4128f5c",
   "metadata": {},
   "source": [
    "Anoiteceu. O grupo de Fern, tendo conseguido o passarinho, deve agora decidir em que ordem farão as rondas para protegerem o passarinho, para isso verão todas as possibilidades possíveis."
   ]
  },
  {
   "cell_type": "markdown",
   "id": "9e5b273b-ce58-49a0-9c73-675352772742",
   "metadata": {},
   "source": [
    "<div align=\"center\">\n",
    "    <img src=\"https://anime.astronerdboy.com/wp-content/uploads/2025/01/03-Hand-Ubel-Fern-look-at-bird-cage.jpg\" alt=\"Fern vs Ehre\" width=\"500\">\n",
    "</div>"
   ]
  },
  {
   "cell_type": "code",
   "execution_count": 40,
   "id": "7753f3f3-d7c3-42a3-9a26-14903569707a",
   "metadata": {},
   "outputs": [
    {
     "data": {
      "text/plain": [
       "[('Fern', 'Ubel', 'Land'),\n",
       " ('Fern', 'Land', 'Ubel'),\n",
       " ('Ubel', 'Fern', 'Land'),\n",
       " ('Ubel', 'Land', 'Fern'),\n",
       " ('Land', 'Fern', 'Ubel'),\n",
       " ('Land', 'Ubel', 'Fern')]"
      ]
     },
     "execution_count": 40,
     "metadata": {},
     "output_type": "execute_result"
    }
   ],
   "source": [
    "list(itertools.permutations(fern_team, 3))"
   ]
  },
  {
   "cell_type": "markdown",
   "id": "12c2610a-4cb8-473c-bf99-c8494d46dfcd",
   "metadata": {},
   "source": [
    "### 🥨 3. Combinations"
   ]
  },
  {
   "cell_type": "markdown",
   "id": "9432cd33-b33e-49e7-9b85-9addc460d897",
   "metadata": {},
   "source": [
    "O módulo combinations objetiva fazer todas as opções de combinar os elementos de um iterável sem importar com a posição."
   ]
  },
  {
   "cell_type": "code",
   "execution_count": 43,
   "id": "ae3007f0-a14b-4df2-bab8-64bd1bb4d10c",
   "metadata": {},
   "outputs": [
    {
     "data": {
      "text/plain": [
       "[('A', 'B'), ('A', 'C'), ('A', 'D'), ('B', 'C'), ('B', 'D'), ('C', 'D')]"
      ]
     },
     "execution_count": 43,
     "metadata": {},
     "output_type": "execute_result"
    }
   ],
   "source": [
    "list(itertools.combinations(\"ABCD\", 2))"
   ]
  },
  {
   "cell_type": "markdown",
   "id": "5f486e1f-bfe7-4dfb-9e53-56dbe608d8da",
   "metadata": {},
   "source": [
    "O passarinho está seguro, mas a equipe está faminta. Um deles deve continuar escondido com o passarinho, enquanto os outros dois sairão para caçar. Eles precisam ver as combinações possíveis de grupos de caça."
   ]
  },
  {
   "cell_type": "markdown",
   "id": "b7c8cabf-99d2-4db8-a902-fc4a597245fb",
   "metadata": {},
   "source": [
    "<div align=\"center\">\n",
    "    <img src=\"https://media.tenor.com/WRFjbtr5JYMAAAAM/fern-munching-fern.gif\" alt=\"Fern vs Ehre\" width=\"300\">\n",
    "</div>"
   ]
  },
  {
   "cell_type": "code",
   "execution_count": 44,
   "id": "8ec47b7f-2f5b-4515-82c1-fb7881a8eb24",
   "metadata": {},
   "outputs": [
    {
     "data": {
      "text/plain": [
       "[('Fern', 'Ubel'), ('Fern', 'Land'), ('Ubel', 'Land')]"
      ]
     },
     "execution_count": 44,
     "metadata": {},
     "output_type": "execute_result"
    }
   ],
   "source": [
    "list(itertools.combinations(fern_team, 2))"
   ]
  },
  {
   "cell_type": "markdown",
   "id": "3c76fc98-7c75-4300-acf7-885440410a57",
   "metadata": {},
   "source": [
    "### ⛓️ 4. Chains"
   ]
  },
  {
   "cell_type": "markdown",
   "id": "f9f4d61d-4585-4014-b66b-3b80db81b773",
   "metadata": {},
   "source": [
    "O módulo Chains tem como objetivo juntar os elementos de diferentes iteradores."
   ]
  },
  {
   "cell_type": "code",
   "execution_count": 47,
   "id": "d5ae82a2-3244-44b6-94e5-6b34a5e6973f",
   "metadata": {},
   "outputs": [
    {
     "data": {
      "text/plain": [
       "['A', 'B', 'C', 'D', 'E', 'F', 'G']"
      ]
     },
     "execution_count": 47,
     "metadata": {},
     "output_type": "execute_result"
    }
   ],
   "source": [
    "list(itertools.chain(\"ABC\", \"DE\", \"FG\"))"
   ]
  },
  {
   "cell_type": "markdown",
   "id": "25508695-ab95-419e-ab39-082d9dfee9c4",
   "metadata": {},
   "source": [
    "Frieren aparece diante do grupo de Fern. Frieren diz estar com sono, querendo dormir, então sugere juntares os dois trios para que cada um precise revezar menos vezes nas rondas. O grupo de Fern aceita, precisam ver agora quem está disponível para a divisão."
   ]
  },
  {
   "cell_type": "markdown",
   "id": "756ec9f9-0f28-491b-853a-a8963f50e390",
   "metadata": {},
   "source": [
    "<div align=\"center\">\n",
    "    <img src=\"https://media.tenor.com/CmVFZPpoZtwAAAAM/frieren-beyond-journeys-end-frieren-patting-lawine-kanne-frieren-beyond-journeys-end.gif\" alt=\"Fern vs Ehre\" width=\"300\">\n",
    "</div>"
   ]
  },
  {
   "cell_type": "code",
   "execution_count": 48,
   "id": "e56a07c2-f957-4b4b-a389-e281c5d7a357",
   "metadata": {},
   "outputs": [
    {
     "data": {
      "text/plain": [
       "['Fern', 'Ubel', 'Land', 'Frieren', 'Lawine', 'Kanne']"
      ]
     },
     "execution_count": 48,
     "metadata": {},
     "output_type": "execute_result"
    }
   ],
   "source": [
    "frieren_team = [\"Frieren\", \"Lawine\", \"Kanne\"]\n",
    "\n",
    "list(itertools.chain(fern_team, frieren_team))"
   ]
  },
  {
   "cell_type": "markdown",
   "id": "16d2d62d-073d-4995-bd79-0727812249ee",
   "metadata": {},
   "source": [
    "### 🌟 5. Groupby"
   ]
  },
  {
   "cell_type": "markdown",
   "id": "98df94a1-118d-49e2-add3-7720656af8df",
   "metadata": {},
   "source": [
    "O módulo groupby ajuda a aplicar funções de organização, agrupando chars iguais."
   ]
  },
  {
   "cell_type": "code",
   "execution_count": 102,
   "id": "0a10960b-1161-49dc-8214-44f3feb5aae2",
   "metadata": {},
   "outputs": [
    {
     "name": "stdout",
     "output_type": "stream",
     "text": [
      "['O', 'l', 'i', 'l']\n",
      "[['O'], ['l', 'l', 'l', 'l', 'l', 'l', 'l', 'l', 'l', 'l', 'l', 'l'], ['i'], ['l', 'l', 'l', 'l', 'l', 'l', 'l', 'l', 'l', 'l', 'l']]\n"
     ]
    }
   ],
   "source": [
    "print(list([k for k, g in itertools.groupby('Ollllllllllllilllllllllll')]))\n",
    "print(list([list(g) for k, g in itertools.groupby('Ollllllllllllilllllllllll')]))"
   ]
  },
  {
   "cell_type": "markdown",
   "id": "813064e9-9454-4746-b558-976d5f26f077",
   "metadata": {},
   "source": [
    "Fern acorda Frieren, após ela dormir 14 horas consecutivas. Frieren, entediada, decide ler seu novo grimório. Ela percebe que ele está escrito de forma a ser difícil de ler. Frieren decide ler a primeira palavra com a ajuda de groupby, observando quantas vezes cada l e 1 se repetem e comparando com a ASCII Table."
   ]
  },
  {
   "cell_type": "markdown",
   "id": "c31e6c9e-2e10-425d-adea-b1b95203c01c",
   "metadata": {},
   "source": [
    "<div align=\"center\">\n",
    "    <img src=\"https://gifdb.com/images/thumbnail/cute-frieren-campfire-reading-xopdf5pozbtze01m.gif\" alt=\"Fern vs Ehre\" width=\"300\">\n",
    "</div>"
   ]
  },
  {
   "cell_type": "code",
   "execution_count": 117,
   "id": "cc156fb0-ea50-479c-81b1-7701ddb86f13",
   "metadata": {},
   "outputs": [
    {
     "name": "stdout",
     "output_type": "stream",
     "text": [
      "FLAMME\n"
     ]
    }
   ],
   "source": [
    "first_word = 'llllllllllllllllllllllllllllllllllllllllllllllllllllllllllllllllllllll1111111111111111111111111111111111111111111111111111111111111111111111111111lllllllllllllllllllllllllllllllllllllllllllllllllllllllllllllllll11111111111111111111111111111111111111111111111111111111111111111111111111111lllllllllllllllllllllllllllllllllllllllllllllllllllllllllllllllllllllllllllll111111111111111111111111111111111111111111111111111111111111111111111'\n",
    "list_word = list([list(g) for k, g in itertools.groupby(first_word)])\n",
    "print(chr(len(list_word[0]))+chr(len(list_word[1]))+chr(len(list_word[2]))+chr(len(list_word[3]))+chr(len(list_word[4]))+chr(len(list_word[5])))"
   ]
  },
  {
   "cell_type": "markdown",
   "id": "b8b84db9-f250-489c-9ea3-785488281434",
   "metadata": {},
   "source": [
    "### 🦆 6. Combinations with Replacement"
   ]
  },
  {
   "cell_type": "markdown",
   "id": "38a4440a-adf5-4d7e-a90c-92815de2367e",
   "metadata": {},
   "source": [
    "Este módulo faz as combinações igual ao combination, mas podendo repetir os mesmos termos. Além disso é necessário colocar a quantidade de elementos em cada combinação."
   ]
  },
  {
   "cell_type": "code",
   "execution_count": 119,
   "id": "a09e5fb9-1629-4127-9b4a-aa7bd8bad185",
   "metadata": {},
   "outputs": [
    {
     "data": {
      "text/plain": [
       "[('Ao', 'Ao'),\n",
       " ('Ao', 'Ba'),\n",
       " ('Ao', 'Ur'),\n",
       " ('Ba', 'Ba'),\n",
       " ('Ba', 'Ur'),\n",
       " ('Ur', 'Ur')]"
      ]
     },
     "execution_count": 119,
     "metadata": {},
     "output_type": "execute_result"
    }
   ],
   "source": [
    "list(itertools.combinations_with_replacement([\"Ao\", \"Ba\", \"Ur\"], 2))"
   ]
  },
  {
   "cell_type": "markdown",
   "id": "479aee6d-39e3-4ceb-b0be-cb6246329fcb",
   "metadata": {},
   "source": [
    "A primeira fase está quase acabando. Fern decide se preparar para as próximas batalhas e para isso, decide analisar os combos de magias que pode usar. Ela consegue lançar magias em alta velocidade, portanto acredita que combos de 3 magias são a melhor opção."
   ]
  },
  {
   "cell_type": "markdown",
   "id": "43ea25d3-2824-4d5a-a857-0165b3755285",
   "metadata": {},
   "source": [
    "<div align=\"center\">\n",
    "    <img src=\"https://i.pinimg.com/originals/fc/a5/f6/fca5f68954c3dd93dfd6d4ee1cc7cbfc.gif\" alt=\"Fern vs Ehre\" width=\"500\">\n",
    "</div>"
   ]
  },
  {
   "cell_type": "code",
   "execution_count": 121,
   "id": "0f71c9ff-a74c-4ec4-8ffc-44f0002f7240",
   "metadata": {},
   "outputs": [
    {
     "data": {
      "text/plain": [
       "[('Zoltraak', 'Zoltraak', 'Zoltraak'),\n",
       " ('Zoltraak', 'Zoltraak', 'Zoltraak Modificado'),\n",
       " ('Zoltraak', 'Zoltraak', 'Ataques Básicos'),\n",
       " ('Zoltraak', 'Zoltraak', 'Barreira Mágica'),\n",
       " ('Zoltraak', 'Zoltraak', 'Proteção Contra Detecção de Magia'),\n",
       " ('Zoltraak', 'Zoltraak Modificado', 'Zoltraak Modificado'),\n",
       " ('Zoltraak', 'Zoltraak Modificado', 'Ataques Básicos'),\n",
       " ('Zoltraak', 'Zoltraak Modificado', 'Barreira Mágica'),\n",
       " ('Zoltraak', 'Zoltraak Modificado', 'Proteção Contra Detecção de Magia'),\n",
       " ('Zoltraak', 'Ataques Básicos', 'Ataques Básicos'),\n",
       " ('Zoltraak', 'Ataques Básicos', 'Barreira Mágica'),\n",
       " ('Zoltraak', 'Ataques Básicos', 'Proteção Contra Detecção de Magia'),\n",
       " ('Zoltraak', 'Barreira Mágica', 'Barreira Mágica'),\n",
       " ('Zoltraak', 'Barreira Mágica', 'Proteção Contra Detecção de Magia'),\n",
       " ('Zoltraak',\n",
       "  'Proteção Contra Detecção de Magia',\n",
       "  'Proteção Contra Detecção de Magia'),\n",
       " ('Zoltraak Modificado', 'Zoltraak Modificado', 'Zoltraak Modificado'),\n",
       " ('Zoltraak Modificado', 'Zoltraak Modificado', 'Ataques Básicos'),\n",
       " ('Zoltraak Modificado', 'Zoltraak Modificado', 'Barreira Mágica'),\n",
       " ('Zoltraak Modificado',\n",
       "  'Zoltraak Modificado',\n",
       "  'Proteção Contra Detecção de Magia'),\n",
       " ('Zoltraak Modificado', 'Ataques Básicos', 'Ataques Básicos'),\n",
       " ('Zoltraak Modificado', 'Ataques Básicos', 'Barreira Mágica'),\n",
       " ('Zoltraak Modificado',\n",
       "  'Ataques Básicos',\n",
       "  'Proteção Contra Detecção de Magia'),\n",
       " ('Zoltraak Modificado', 'Barreira Mágica', 'Barreira Mágica'),\n",
       " ('Zoltraak Modificado',\n",
       "  'Barreira Mágica',\n",
       "  'Proteção Contra Detecção de Magia'),\n",
       " ('Zoltraak Modificado',\n",
       "  'Proteção Contra Detecção de Magia',\n",
       "  'Proteção Contra Detecção de Magia'),\n",
       " ('Ataques Básicos', 'Ataques Básicos', 'Ataques Básicos'),\n",
       " ('Ataques Básicos', 'Ataques Básicos', 'Barreira Mágica'),\n",
       " ('Ataques Básicos', 'Ataques Básicos', 'Proteção Contra Detecção de Magia'),\n",
       " ('Ataques Básicos', 'Barreira Mágica', 'Barreira Mágica'),\n",
       " ('Ataques Básicos', 'Barreira Mágica', 'Proteção Contra Detecção de Magia'),\n",
       " ('Ataques Básicos',\n",
       "  'Proteção Contra Detecção de Magia',\n",
       "  'Proteção Contra Detecção de Magia'),\n",
       " ('Barreira Mágica', 'Barreira Mágica', 'Barreira Mágica'),\n",
       " ('Barreira Mágica', 'Barreira Mágica', 'Proteção Contra Detecção de Magia'),\n",
       " ('Barreira Mágica',\n",
       "  'Proteção Contra Detecção de Magia',\n",
       "  'Proteção Contra Detecção de Magia'),\n",
       " ('Proteção Contra Detecção de Magia',\n",
       "  'Proteção Contra Detecção de Magia',\n",
       "  'Proteção Contra Detecção de Magia')]"
      ]
     },
     "execution_count": 121,
     "metadata": {},
     "output_type": "execute_result"
    }
   ],
   "source": [
    "atk_mag = [\"Zoltraak\", \"Zoltraak Modificado\", \"Ataques Básicos\"]\n",
    "def_mag = [\"Barreira Mágica\", \"Proteção Contra Detecção de Magia\"]\n",
    "list(itertools.combinations_with_replacement(atk_mag+def_mag, 3))"
   ]
  },
  {
   "cell_type": "markdown",
   "id": "3ebfda20-f382-416f-bfce-fc5bb4d256af",
   "metadata": {},
   "source": [
    "A primeira fase terminou, um novo dia nasce. Usando os itertools, Frieren e Fern esperam conquistar a licensa de Mago."
   ]
  },
  {
   "cell_type": "markdown",
   "id": "c72425aa-b977-4b80-8e56-8a229c0ea12f",
   "metadata": {},
   "source": [
    "<div align=\"center\">\n",
    "    <img src=\"https://images6.alphacoders.com/137/1374531.jpg\" alt=\"Fern vs Ehre\" width=\"900\">\n",
    "</div>"
   ]
  },
  {
   "cell_type": "markdown",
   "id": "13fcc10a-7218-46ac-9c45-1574aec32a69",
   "metadata": {},
   "source": [
    "### Conclusão\n",
    "A biblioteca itertools facilita a elaboração de algoritmos por ter módulos de funções frequentemente necessários de serem usados. Assim, a biblioteca poupa um grande tempo e torna mais intuitivo de elaborar e visualizar.\n",
    "\n",
    "### Referências\n",
    "PYTHON SOFTWARE FOUNDATION. Disponível em: https://docs.python.org/3/library/itertools.html. Acesso em: 04/09/2025."
   ]
  }
 ],
 "metadata": {
  "kernelspec": {
   "display_name": "Python 3 (ipykernel)",
   "language": "python",
   "name": "python3"
  },
  "language_info": {
   "codemirror_mode": {
    "name": "ipython",
    "version": 3
   },
   "file_extension": ".py",
   "mimetype": "text/x-python",
   "name": "python",
   "nbconvert_exporter": "python",
   "pygments_lexer": "ipython3",
   "version": "3.12.7"
  }
 },
 "nbformat": 4,
 "nbformat_minor": 5
}
