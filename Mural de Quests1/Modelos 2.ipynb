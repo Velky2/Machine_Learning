{
 "cells": [
  {
   "cell_type": "markdown",
   "id": "891901ae-c33e-4ba0-be3d-bbf22b83b79c",
   "metadata": {},
   "source": [
    "# Machine Learning\n",
    "### Modelos 2"
   ]
  },
  {
   "cell_type": "markdown",
   "id": "368faf47-01a7-4078-bb5a-94b1c9991d2d",
   "metadata": {},
   "source": [
    "Nesta tarefa, faremos o algoritmo knn classificador sem usar o sklearn. Para isso, usaremos o dataset padrão do seaborn de pinguins."
   ]
  },
  {
   "cell_type": "markdown",
   "id": "d6e8c344-1dfe-4bd0-9b61-0f63ab04e45c",
   "metadata": {},
   "source": [
    "Primeiro, importemos o dataset."
   ]
  },
  {
   "cell_type": "code",
   "execution_count": 74,
   "id": "d466bdb5-fa3c-47e1-940a-2eb2978c266f",
   "metadata": {},
   "outputs": [
    {
     "data": {
      "text/html": [
       "<div>\n",
       "<style scoped>\n",
       "    .dataframe tbody tr th:only-of-type {\n",
       "        vertical-align: middle;\n",
       "    }\n",
       "\n",
       "    .dataframe tbody tr th {\n",
       "        vertical-align: top;\n",
       "    }\n",
       "\n",
       "    .dataframe thead th {\n",
       "        text-align: right;\n",
       "    }\n",
       "</style>\n",
       "<table border=\"1\" class=\"dataframe\">\n",
       "  <thead>\n",
       "    <tr style=\"text-align: right;\">\n",
       "      <th></th>\n",
       "      <th>species</th>\n",
       "      <th>island</th>\n",
       "      <th>bill_length_mm</th>\n",
       "      <th>bill_depth_mm</th>\n",
       "      <th>flipper_length_mm</th>\n",
       "      <th>body_mass_g</th>\n",
       "      <th>sex</th>\n",
       "    </tr>\n",
       "  </thead>\n",
       "  <tbody>\n",
       "    <tr>\n",
       "      <th>0</th>\n",
       "      <td>Adelie</td>\n",
       "      <td>Torgersen</td>\n",
       "      <td>39.1</td>\n",
       "      <td>18.7</td>\n",
       "      <td>181.0</td>\n",
       "      <td>3750.0</td>\n",
       "      <td>Male</td>\n",
       "    </tr>\n",
       "    <tr>\n",
       "      <th>1</th>\n",
       "      <td>Adelie</td>\n",
       "      <td>Torgersen</td>\n",
       "      <td>39.5</td>\n",
       "      <td>17.4</td>\n",
       "      <td>186.0</td>\n",
       "      <td>3800.0</td>\n",
       "      <td>Female</td>\n",
       "    </tr>\n",
       "    <tr>\n",
       "      <th>2</th>\n",
       "      <td>Adelie</td>\n",
       "      <td>Torgersen</td>\n",
       "      <td>40.3</td>\n",
       "      <td>18.0</td>\n",
       "      <td>195.0</td>\n",
       "      <td>3250.0</td>\n",
       "      <td>Female</td>\n",
       "    </tr>\n",
       "    <tr>\n",
       "      <th>4</th>\n",
       "      <td>Adelie</td>\n",
       "      <td>Torgersen</td>\n",
       "      <td>36.7</td>\n",
       "      <td>19.3</td>\n",
       "      <td>193.0</td>\n",
       "      <td>3450.0</td>\n",
       "      <td>Female</td>\n",
       "    </tr>\n",
       "    <tr>\n",
       "      <th>5</th>\n",
       "      <td>Adelie</td>\n",
       "      <td>Torgersen</td>\n",
       "      <td>39.3</td>\n",
       "      <td>20.6</td>\n",
       "      <td>190.0</td>\n",
       "      <td>3650.0</td>\n",
       "      <td>Male</td>\n",
       "    </tr>\n",
       "    <tr>\n",
       "      <th>...</th>\n",
       "      <td>...</td>\n",
       "      <td>...</td>\n",
       "      <td>...</td>\n",
       "      <td>...</td>\n",
       "      <td>...</td>\n",
       "      <td>...</td>\n",
       "      <td>...</td>\n",
       "    </tr>\n",
       "    <tr>\n",
       "      <th>338</th>\n",
       "      <td>Gentoo</td>\n",
       "      <td>Biscoe</td>\n",
       "      <td>47.2</td>\n",
       "      <td>13.7</td>\n",
       "      <td>214.0</td>\n",
       "      <td>4925.0</td>\n",
       "      <td>Female</td>\n",
       "    </tr>\n",
       "    <tr>\n",
       "      <th>340</th>\n",
       "      <td>Gentoo</td>\n",
       "      <td>Biscoe</td>\n",
       "      <td>46.8</td>\n",
       "      <td>14.3</td>\n",
       "      <td>215.0</td>\n",
       "      <td>4850.0</td>\n",
       "      <td>Female</td>\n",
       "    </tr>\n",
       "    <tr>\n",
       "      <th>341</th>\n",
       "      <td>Gentoo</td>\n",
       "      <td>Biscoe</td>\n",
       "      <td>50.4</td>\n",
       "      <td>15.7</td>\n",
       "      <td>222.0</td>\n",
       "      <td>5750.0</td>\n",
       "      <td>Male</td>\n",
       "    </tr>\n",
       "    <tr>\n",
       "      <th>342</th>\n",
       "      <td>Gentoo</td>\n",
       "      <td>Biscoe</td>\n",
       "      <td>45.2</td>\n",
       "      <td>14.8</td>\n",
       "      <td>212.0</td>\n",
       "      <td>5200.0</td>\n",
       "      <td>Female</td>\n",
       "    </tr>\n",
       "    <tr>\n",
       "      <th>343</th>\n",
       "      <td>Gentoo</td>\n",
       "      <td>Biscoe</td>\n",
       "      <td>49.9</td>\n",
       "      <td>16.1</td>\n",
       "      <td>213.0</td>\n",
       "      <td>5400.0</td>\n",
       "      <td>Male</td>\n",
       "    </tr>\n",
       "  </tbody>\n",
       "</table>\n",
       "<p>333 rows × 7 columns</p>\n",
       "</div>"
      ],
      "text/plain": [
       "    species     island  bill_length_mm  bill_depth_mm  flipper_length_mm  \\\n",
       "0    Adelie  Torgersen            39.1           18.7              181.0   \n",
       "1    Adelie  Torgersen            39.5           17.4              186.0   \n",
       "2    Adelie  Torgersen            40.3           18.0              195.0   \n",
       "4    Adelie  Torgersen            36.7           19.3              193.0   \n",
       "5    Adelie  Torgersen            39.3           20.6              190.0   \n",
       "..      ...        ...             ...            ...                ...   \n",
       "338  Gentoo     Biscoe            47.2           13.7              214.0   \n",
       "340  Gentoo     Biscoe            46.8           14.3              215.0   \n",
       "341  Gentoo     Biscoe            50.4           15.7              222.0   \n",
       "342  Gentoo     Biscoe            45.2           14.8              212.0   \n",
       "343  Gentoo     Biscoe            49.9           16.1              213.0   \n",
       "\n",
       "     body_mass_g     sex  \n",
       "0         3750.0    Male  \n",
       "1         3800.0  Female  \n",
       "2         3250.0  Female  \n",
       "4         3450.0  Female  \n",
       "5         3650.0    Male  \n",
       "..           ...     ...  \n",
       "338       4925.0  Female  \n",
       "340       4850.0  Female  \n",
       "341       5750.0    Male  \n",
       "342       5200.0  Female  \n",
       "343       5400.0    Male  \n",
       "\n",
       "[333 rows x 7 columns]"
      ]
     },
     "execution_count": 74,
     "metadata": {},
     "output_type": "execute_result"
    }
   ],
   "source": [
    "import seaborn as sns\n",
    "\n",
    "df = sns.load_dataset('penguins')\n",
    "df = df.dropna()\n",
    "df"
   ]
  },
  {
   "cell_type": "markdown",
   "id": "96dcad7c-d7b7-4e07-801d-7f9fa25d8a03",
   "metadata": {},
   "source": [
    "Primeiro definimos os atributos a serem analisados e o alvo. A partir do comprimento do bico, profundidade, tamanho da asa e massa, preveremos a espécie."
   ]
  },
  {
   "cell_type": "code",
   "execution_count": 75,
   "id": "4d255210-77a3-48ed-bf4d-1e8c507dfbe8",
   "metadata": {},
   "outputs": [],
   "source": [
    "FEATURES = [\"bill_length_mm\", \"bill_depth_mm\", \"flipper_length_mm\", \"body_mass_g\"]\n",
    "TARGET = [\"species\"]\n",
    "\n",
    "X = df.reindex(FEATURES, axis=1)\n",
    "y = df.reindex(TARGET, axis=1)\n",
    "\n",
    "X = X.values\n",
    "y = y.values.ravel()  # o método `ravel` deixa os dados em 1 dimensão"
   ]
  },
  {
   "cell_type": "markdown",
   "id": "81cc1d71-1dce-4454-9f84-f44d217ebf0b",
   "metadata": {},
   "source": [
    "Calculamos a distância Manhattan"
   ]
  },
  {
   "cell_type": "code",
   "execution_count": 76,
   "id": "42e904d7-9516-448c-ada7-63e8913b6399",
   "metadata": {},
   "outputs": [],
   "source": [
    "def calcula_distancia(coordenada_1, coordenada_2):\n",
    "    \"\"\"Calcula distância Manhattan entre duas coordenadas.\"\"\"\n",
    "\n",
    "    soma = 0\n",
    "\n",
    "    for c1, c2 in zip(coordenada_1, coordenada_2):\n",
    "        soma += (c1 - c2)\n",
    "\n",
    "    return soma"
   ]
  },
  {
   "cell_type": "markdown",
   "id": "ec319a62-cdfb-40ad-a659-207d9155cb65",
   "metadata": {},
   "source": [
    "Define os vizinhos"
   ]
  },
  {
   "cell_type": "code",
   "execution_count": 77,
   "id": "4581b4af-6811-4fdf-8ce4-9e3393bb71f0",
   "metadata": {},
   "outputs": [],
   "source": [
    "def cria_instancia_knn(num_vizinhos):\n",
    "    \"\"\"Cria uma instância de um modelo k-NN.\"\"\"\n",
    "\n",
    "    modelo = {\n",
    "        \"num_vizinhos\": num_vizinhos,\n",
    "    }\n",
    "\n",
    "    return modelo"
   ]
  },
  {
   "cell_type": "code",
   "execution_count": 78,
   "id": "4a5105f7-6550-4dde-a8b4-7077e6b2807e",
   "metadata": {},
   "outputs": [],
   "source": [
    "def treinar_knn(modelo, X_treino, y_treino):\n",
    "    \"\"\"Treina um modelo k-NN.\"\"\"\n",
    "\n",
    "    assert len(X_treino) == len(y_treino), \"Os dados devem ter o mesmo tamanho\"\n",
    "\n",
    "    modelo[\"X_treino\"] = X_treino\n",
    "    modelo[\"y_treino\"] = y_treino"
   ]
  },
  {
   "cell_type": "markdown",
   "id": "93134e1e-c294-4cae-81e3-311981f96bc3",
   "metadata": {},
   "source": [
    "Prevê o alvo como o atributo alvo mais repetido (moda)."
   ]
  },
  {
   "cell_type": "code",
   "execution_count": 79,
   "id": "897a7104-b86e-4102-a8ae-79865d74ce28",
   "metadata": {},
   "outputs": [],
   "source": [
    "import statistics as st\n",
    "\n",
    "\n",
    "def previsao_knn(modelo, X_previsao):\n",
    "    \"\"\"Realiza a previsão de um modelo k-NN.\"\"\"\n",
    "\n",
    "    X_treino = modelo[\"X_treino\"]\n",
    "    y_treino = modelo[\"y_treino\"]\n",
    "    num_vizinhos = modelo[\"num_vizinhos\"]\n",
    "\n",
    "    distancias = [calcula_distancia(X_previsao, x) for x in X_treino]\n",
    "    indices_ordenados = sorted(range(len(distancias)), key=lambda i: distancias[i])\n",
    "    indices_mais_proximos = indices_ordenados[:num_vizinhos]\n",
    "    targets_mais_proximos = [y_treino[i] for i in indices_mais_proximos]\n",
    "    y_previsto = st.mode(targets_mais_proximos)\n",
    "\n",
    "    return y_previsto"
   ]
  },
  {
   "cell_type": "code",
   "execution_count": 80,
   "id": "f999aaae-4047-4ae3-8cae-78a4129f738e",
   "metadata": {},
   "outputs": [],
   "source": [
    "modelo = cria_instancia_knn(3)\n",
    "\n",
    "treinar_knn(modelo, X, y)"
   ]
  },
  {
   "cell_type": "markdown",
   "id": "bcd50420-6c68-425f-9221-c3d0ee4d8484",
   "metadata": {},
   "source": [
    "Testando o modelo:"
   ]
  },
  {
   "cell_type": "code",
   "execution_count": 83,
   "id": "8ec76dc4-5146-47c4-840d-07427124d2bc",
   "metadata": {},
   "outputs": [
    {
     "data": {
      "text/plain": [
       "'Gentoo'"
      ]
     },
     "execution_count": 83,
     "metadata": {},
     "output_type": "execute_result"
    }
   ],
   "source": [
    "x_novo = [43, 20, 180, 5000]\n",
    "y_previsto = previsao_knn(modelo, x_novo)\n",
    "y_previsto"
   ]
  },
  {
   "cell_type": "markdown",
   "id": "59ab5a56-2a9a-4ed1-86ce-ddc24977f24d",
   "metadata": {},
   "source": [
    "Então o modelo está funcionando, vamos testar se ele consegue prever corretamente um pinguim já existente"
   ]
  },
  {
   "cell_type": "code",
   "execution_count": 82,
   "id": "80fbf0c1-c282-4889-ba74-a60870dba3de",
   "metadata": {},
   "outputs": [
    {
     "data": {
      "text/plain": [
       "'Gentoo'"
      ]
     },
     "execution_count": 82,
     "metadata": {},
     "output_type": "execute_result"
    }
   ],
   "source": [
    "x_novo = [39.1, 18.7, 181, 3750]\n",
    "y_previsto = previsao_knn(modelo, x_novo)\n",
    "y_previsto"
   ]
  },
  {
   "cell_type": "code",
   "execution_count": 84,
   "id": "8f09055a-2d10-4fc7-aeaf-b9bb4939c5c2",
   "metadata": {},
   "outputs": [
    {
     "data": {
      "text/plain": [
       "'Gentoo'"
      ]
     },
     "execution_count": 84,
     "metadata": {},
     "output_type": "execute_result"
    }
   ],
   "source": [
    "x_novo = [39.3, 20.6, 190, 3650]\n",
    "y_previsto = previsao_knn(modelo, x_novo)\n",
    "y_previsto"
   ]
  },
  {
   "cell_type": "markdown",
   "id": "3d6cc197-af70-4a75-8f0c-fe9f9f44d285",
   "metadata": {},
   "source": [
    "Ele não previu corretamente, eram pra ser um Adelie. Portanto, o algoritmo classificador knn usando distância manhattan não apresenta um desempenho excelente, porém é uma alternativa válida."
   ]
  },
  {
   "cell_type": "markdown",
   "id": "c6084f60-11be-47fa-b631-405f939f1753",
   "metadata": {},
   "source": [
    "### Conclusão\n",
    "Logo, é possível fazer com facilidade um algoritmo knn classificador com distância manhattan. Porém, ele não se mostrou como uma alternativa de excelente desempenho."
   ]
  },
  {
   "cell_type": "markdown",
   "id": "13a662e4-7af9-4163-807e-f13c405440b4",
   "metadata": {},
   "source": [
    "### Referências\n",
    "\n",
    "Cassar, Daniel. LMA-203 1.0 - Tratamento de dados com pandas. Acesso em: 24 ago. 2025.\n",
    "\n",
    "Cassar, Daniel. LMA-203 2.0 - Aprendizado de máquina. Acesso em: 24 ago. 2025.\n",
    "\n",
    "Cassar, Daniel. LMA-203 2.1 - Divisão de dados de treino e teste. Acesso em: 24 ago. 2025."
   ]
  }
 ],
 "metadata": {
  "kernelspec": {
   "display_name": "Python 3 (ipykernel)",
   "language": "python",
   "name": "python3"
  },
  "language_info": {
   "codemirror_mode": {
    "name": "ipython",
    "version": 3
   },
   "file_extension": ".py",
   "mimetype": "text/x-python",
   "name": "python",
   "nbconvert_exporter": "python",
   "pygments_lexer": "ipython3",
   "version": "3.12.7"
  }
 },
 "nbformat": 4,
 "nbformat_minor": 5
}
