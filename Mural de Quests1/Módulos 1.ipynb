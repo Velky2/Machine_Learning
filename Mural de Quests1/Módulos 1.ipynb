{
 "cells": [
  {
   "cell_type": "markdown",
   "id": "3af59936-bade-4616-8621-2fdff0ef690c",
   "metadata": {},
   "source": [
    "# 🐼 Aprendendo Pandas"
   ]
  },
  {
   "cell_type": "markdown",
   "id": "71ba9aa5-e1e3-4627-bf86-fc6e1ccff86f",
   "metadata": {},
   "source": [
    "### Este notebook visa ensinar alguns módulos da essencial biblioteca do python \"Pandas\"."
   ]
  },
  {
   "cell_type": "code",
   "execution_count": 4,
   "id": "6eef2995-09a5-419d-abee-82e68ca720e7",
   "metadata": {},
   "outputs": [
    {
     "data": {
      "text/html": [
       "<div>\n",
       "<style scoped>\n",
       "    .dataframe tbody tr th:only-of-type {\n",
       "        vertical-align: middle;\n",
       "    }\n",
       "\n",
       "    .dataframe tbody tr th {\n",
       "        vertical-align: top;\n",
       "    }\n",
       "\n",
       "    .dataframe thead th {\n",
       "        text-align: right;\n",
       "    }\n",
       "</style>\n",
       "<table border=\"1\" class=\"dataframe\">\n",
       "  <thead>\n",
       "    <tr style=\"text-align: right;\">\n",
       "      <th></th>\n",
       "      <th>Idade</th>\n",
       "      <th>Classe</th>\n",
       "      <th>Nível</th>\n",
       "    </tr>\n",
       "  </thead>\n",
       "  <tbody>\n",
       "    <tr>\n",
       "      <th>0</th>\n",
       "      <td>21</td>\n",
       "      <td>Guerreiro</td>\n",
       "      <td>7</td>\n",
       "    </tr>\n",
       "    <tr>\n",
       "      <th>1</th>\n",
       "      <td>57</td>\n",
       "      <td>Mago</td>\n",
       "      <td>15</td>\n",
       "    </tr>\n",
       "    <tr>\n",
       "      <th>2</th>\n",
       "      <td>16</td>\n",
       "      <td>Escudeiro</td>\n",
       "      <td>2</td>\n",
       "    </tr>\n",
       "    <tr>\n",
       "      <th>3</th>\n",
       "      <td>12</td>\n",
       "      <td>Guerreiro</td>\n",
       "      <td>20</td>\n",
       "    </tr>\n",
       "  </tbody>\n",
       "</table>\n",
       "</div>"
      ],
      "text/plain": [
       "   Idade     Classe  Nível\n",
       "0     21  Guerreiro      7\n",
       "1     57       Mago     15\n",
       "2     16  Escudeiro      2\n",
       "3     12  Guerreiro     20"
      ]
     },
     "execution_count": 4,
     "metadata": {},
     "output_type": "execute_result"
    }
   ],
   "source": [
    "#Primeiramente, criemos nosso dataframe para que seja usado como exemplo.\n",
    "import pandas as pd\n",
    "colunas = ['Idade', 'Classe', 'Nível']\n",
    "dados = [\n",
    "    [21, 'Guerreiro', 7],\n",
    "    [57, 'Mago', 15],\n",
    "    [16, 'Escudeiro', 2],\n",
    "    [12, 'Guerreiro', 20]]\n",
    "df = pd.DataFrame(dados, columns = colunas)\n",
    "df"
   ]
  },
  {
   "cell_type": "markdown",
   "id": "6e20a1fd-0a4d-4077-b388-7f54805ea8df",
   "metadata": {},
   "source": [
    "## 🪙 1. Head/Tail\n",
    "#### Primeiramente, vamos ver os módulos head e tail. Ambos servem para selecionar um dado n número de linha. Enquanto head seleciona as n primeiras linhas, tail seleciona as n últimas."
   ]
  },
  {
   "cell_type": "code",
   "execution_count": 7,
   "id": "8379b691-5070-4386-8763-edc0ad3b736d",
   "metadata": {},
   "outputs": [
    {
     "name": "stdout",
     "output_type": "stream",
     "text": [
      "   Idade     Classe  Nível\n",
      "0     21  Guerreiro      7\n",
      "1     57       Mago     15\n",
      "---------------------------\n",
      "   Idade     Classe  Nível\n",
      "3     12  Guerreiro     20\n"
     ]
    }
   ],
   "source": [
    "#Primeiro, vamos imprimir as 2 primeiras linhas:\n",
    "print(df.head(2))\n",
    "print('---------------------------')\n",
    "#Agora, imprimamos a última linha:\n",
    "print(df.tail(1))"
   ]
  },
  {
   "cell_type": "markdown",
   "id": "1d87794b-34c1-4916-aef3-606adae07cdd",
   "metadata": {},
   "source": [
    "## 📍 2. Iloc\n",
    "#### O iloc é usado para selecionar dentro do dataframe linhas e colunas pelo índice."
   ]
  },
  {
   "cell_type": "code",
   "execution_count": 17,
   "id": "c8164ef3-4c0b-4ad9-b6c8-398983599fa3",
   "metadata": {},
   "outputs": [
    {
     "data": {
      "text/html": [
       "<div>\n",
       "<style scoped>\n",
       "    .dataframe tbody tr th:only-of-type {\n",
       "        vertical-align: middle;\n",
       "    }\n",
       "\n",
       "    .dataframe tbody tr th {\n",
       "        vertical-align: top;\n",
       "    }\n",
       "\n",
       "    .dataframe thead th {\n",
       "        text-align: right;\n",
       "    }\n",
       "</style>\n",
       "<table border=\"1\" class=\"dataframe\">\n",
       "  <thead>\n",
       "    <tr style=\"text-align: right;\">\n",
       "      <th></th>\n",
       "      <th>Classe</th>\n",
       "      <th>Nível</th>\n",
       "    </tr>\n",
       "  </thead>\n",
       "  <tbody>\n",
       "    <tr>\n",
       "      <th>0</th>\n",
       "      <td>Guerreiro</td>\n",
       "      <td>7</td>\n",
       "    </tr>\n",
       "    <tr>\n",
       "      <th>1</th>\n",
       "      <td>Mago</td>\n",
       "      <td>15</td>\n",
       "    </tr>\n",
       "    <tr>\n",
       "      <th>2</th>\n",
       "      <td>Escudeiro</td>\n",
       "      <td>2</td>\n",
       "    </tr>\n",
       "    <tr>\n",
       "      <th>3</th>\n",
       "      <td>Guerreiro</td>\n",
       "      <td>20</td>\n",
       "    </tr>\n",
       "  </tbody>\n",
       "</table>\n",
       "</div>"
      ],
      "text/plain": [
       "      Classe  Nível\n",
       "0  Guerreiro      7\n",
       "1       Mago     15\n",
       "2  Escudeiro      2\n",
       "3  Guerreiro     20"
      ]
     },
     "execution_count": 17,
     "metadata": {},
     "output_type": "execute_result"
    }
   ],
   "source": [
    "#Iloc recebe dois parâmetros: iloc[linhas, colunas]\n",
    "# Supondo que um monstro muito forte apareceu. A guilda deve selecionar os aventureiros baseados na classe \n",
    "#e nível. Desse modo, apliquemos iloc:\n",
    "df.iloc[0:,1:3]"
   ]
  },
  {
   "cell_type": "markdown",
   "id": "6c85eff1-887d-4e15-adaf-418f511b24bf",
   "metadata": {},
   "source": [
    "## 🙏 3. Concat/Merge\n",
    "#### Caso tenhamos dois dataframes, podemos usar esses módulos para os juntar."
   ]
  },
  {
   "cell_type": "code",
   "execution_count": 19,
   "id": "987ee170-23b8-4633-8d86-2176140e4d87",
   "metadata": {},
   "outputs": [],
   "source": [
    "#Um veterano que estava fazenda uma longa missão voltou ao país:\n",
    "colunas = ['Idade', 'Classe', 'Nível']\n",
    "dados = [\n",
    "    [37, 'Mago', 18]]\n",
    "df2 = pd.DataFrame(dados, columns=colunas)"
   ]
  },
  {
   "cell_type": "code",
   "execution_count": 21,
   "id": "39f5464c-a7d9-4aa5-9e60-7e80041a094a",
   "metadata": {},
   "outputs": [
    {
     "data": {
      "text/html": [
       "<div>\n",
       "<style scoped>\n",
       "    .dataframe tbody tr th:only-of-type {\n",
       "        vertical-align: middle;\n",
       "    }\n",
       "\n",
       "    .dataframe tbody tr th {\n",
       "        vertical-align: top;\n",
       "    }\n",
       "\n",
       "    .dataframe thead th {\n",
       "        text-align: right;\n",
       "    }\n",
       "</style>\n",
       "<table border=\"1\" class=\"dataframe\">\n",
       "  <thead>\n",
       "    <tr style=\"text-align: right;\">\n",
       "      <th></th>\n",
       "      <th>Idade</th>\n",
       "      <th>Classe</th>\n",
       "      <th>Nível</th>\n",
       "    </tr>\n",
       "  </thead>\n",
       "  <tbody>\n",
       "    <tr>\n",
       "      <th>0</th>\n",
       "      <td>21</td>\n",
       "      <td>Guerreiro</td>\n",
       "      <td>7</td>\n",
       "    </tr>\n",
       "    <tr>\n",
       "      <th>1</th>\n",
       "      <td>57</td>\n",
       "      <td>Mago</td>\n",
       "      <td>15</td>\n",
       "    </tr>\n",
       "    <tr>\n",
       "      <th>2</th>\n",
       "      <td>16</td>\n",
       "      <td>Escudeiro</td>\n",
       "      <td>2</td>\n",
       "    </tr>\n",
       "    <tr>\n",
       "      <th>3</th>\n",
       "      <td>12</td>\n",
       "      <td>Guerreiro</td>\n",
       "      <td>20</td>\n",
       "    </tr>\n",
       "    <tr>\n",
       "      <th>4</th>\n",
       "      <td>37</td>\n",
       "      <td>Mago</td>\n",
       "      <td>18</td>\n",
       "    </tr>\n",
       "  </tbody>\n",
       "</table>\n",
       "</div>"
      ],
      "text/plain": [
       "   Idade     Classe  Nível\n",
       "0     21  Guerreiro      7\n",
       "1     57       Mago     15\n",
       "2     16  Escudeiro      2\n",
       "3     12  Guerreiro     20\n",
       "4     37       Mago     18"
      ]
     },
     "execution_count": 21,
     "metadata": {},
     "output_type": "execute_result"
    }
   ],
   "source": [
    "#A guilda precisa colocar ele na lista, para isso, utilizaremos concat:\n",
    "df_novo = pd.concat([df, df2], ignore_index= True)\n",
    "df_novo #Veja que o df_novo contém agora as informações do veterano também."
   ]
  },
  {
   "cell_type": "code",
   "execution_count": 32,
   "id": "c6832b6c-da3f-4037-977a-336476589de4",
   "metadata": {},
   "outputs": [
    {
     "data": {
      "text/html": [
       "<div>\n",
       "<style scoped>\n",
       "    .dataframe tbody tr th:only-of-type {\n",
       "        vertical-align: middle;\n",
       "    }\n",
       "\n",
       "    .dataframe tbody tr th {\n",
       "        vertical-align: top;\n",
       "    }\n",
       "\n",
       "    .dataframe thead th {\n",
       "        text-align: right;\n",
       "    }\n",
       "</style>\n",
       "<table border=\"1\" class=\"dataframe\">\n",
       "  <thead>\n",
       "    <tr style=\"text-align: right;\">\n",
       "      <th></th>\n",
       "      <th>Idade</th>\n",
       "      <th>Classe</th>\n",
       "      <th>Nível</th>\n",
       "      <th>Arma</th>\n",
       "    </tr>\n",
       "  </thead>\n",
       "  <tbody>\n",
       "    <tr>\n",
       "      <th>0</th>\n",
       "      <td>12</td>\n",
       "      <td>Guerreiro</td>\n",
       "      <td>20</td>\n",
       "      <td>Ultra Greatsword</td>\n",
       "    </tr>\n",
       "    <tr>\n",
       "      <th>1</th>\n",
       "      <td>16</td>\n",
       "      <td>Escudeiro</td>\n",
       "      <td>2</td>\n",
       "      <td>None</td>\n",
       "    </tr>\n",
       "    <tr>\n",
       "      <th>2</th>\n",
       "      <td>21</td>\n",
       "      <td>Guerreiro</td>\n",
       "      <td>7</td>\n",
       "      <td>Espada</td>\n",
       "    </tr>\n",
       "    <tr>\n",
       "      <th>3</th>\n",
       "      <td>37</td>\n",
       "      <td>Mago</td>\n",
       "      <td>18</td>\n",
       "      <td>Espada pincél</td>\n",
       "    </tr>\n",
       "    <tr>\n",
       "      <th>4</th>\n",
       "      <td>57</td>\n",
       "      <td>Mago</td>\n",
       "      <td>15</td>\n",
       "      <td>Cajado</td>\n",
       "    </tr>\n",
       "  </tbody>\n",
       "</table>\n",
       "</div>"
      ],
      "text/plain": [
       "   Idade     Classe  Nível              Arma\n",
       "0     12  Guerreiro     20  Ultra Greatsword\n",
       "1     16  Escudeiro      2              None\n",
       "2     21  Guerreiro      7            Espada\n",
       "3     37       Mago     18     Espada pincél\n",
       "4     57       Mago     15            Cajado"
      ]
     },
     "execution_count": 32,
     "metadata": {},
     "output_type": "execute_result"
    }
   ],
   "source": [
    "#Agora a guilda está solicitando as armas usadas por cada aventureiro. Suponhamos que não existem\n",
    "#aventureiros com a mesma idade, portanto, eles podem ser identificados pela idade.\n",
    "colunas = ['Idade', 'Arma']\n",
    "dados = [\n",
    "    [21, 'Espada'],\n",
    "    [57, 'Cajado'],\n",
    "    [16],\n",
    "    [12, 'Ultra Greatsword'],\n",
    "    [37, 'Espada pincél']]\n",
    "df3 = pd.DataFrame(dados, columns=colunas)\n",
    "\n",
    "#Agora, para adicionar a arma correspondente a cada aventureiro, usaremos o merge:\n",
    "df = pd.merge(left=df_novo, right=df3, on='Idade', how='outer')\n",
    "#left e right é a posição de cada dataframe, on é a interseção e how='outer' significa que é para manter\n",
    "#linhas que tem objetos faltando\n",
    "df"
   ]
  },
  {
   "cell_type": "markdown",
   "id": "afcd3c20-440e-4a76-88e1-c7de3abe242d",
   "metadata": {},
   "source": [
    "## ❓ 4. Isnull\n",
    "#### O módulo é usado para identificar se existem elementos faltantes."
   ]
  },
  {
   "cell_type": "code",
   "execution_count": 36,
   "id": "ad740196-bea2-451f-8b96-166ddd643793",
   "metadata": {},
   "outputs": [
    {
     "name": "stdout",
     "output_type": "stream",
     "text": [
      "   Idade  Classe  Nível   Arma\n",
      "0  False   False  False  False\n",
      "1  False   False  False   True\n",
      "2  False   False  False  False\n",
      "3  False   False  False  False\n",
      "4  False   False  False  False\n"
     ]
    }
   ],
   "source": [
    "#A guilda quer verificar se seus dados estão atualizados com todas as informações necessárias.\n",
    "#Usaremos o módulo isnull, ele retorna False se o dado existe e True se estiver faltando\n",
    "print(pd.isnull(df))\n",
    "#Com isso, a guilda verificou que o escudeiro não declarou sua arma."
   ]
  },
  {
   "cell_type": "markdown",
   "id": "68bbe0f6-2c93-4e6a-bb50-6e1fede29f11",
   "metadata": {},
   "source": [
    "## ↔️ 5. Get_dummies\n",
    "#### O módulo é usado para entender quais elementos possuem o mesmo valor."
   ]
  },
  {
   "cell_type": "code",
   "execution_count": 44,
   "id": "9d9dd8ab-cea4-4e06-afc0-d12f1b8be655",
   "metadata": {},
   "outputs": [
    {
     "data": {
      "text/html": [
       "<div>\n",
       "<style scoped>\n",
       "    .dataframe tbody tr th:only-of-type {\n",
       "        vertical-align: middle;\n",
       "    }\n",
       "\n",
       "    .dataframe tbody tr th {\n",
       "        vertical-align: top;\n",
       "    }\n",
       "\n",
       "    .dataframe thead th {\n",
       "        text-align: right;\n",
       "    }\n",
       "</style>\n",
       "<table border=\"1\" class=\"dataframe\">\n",
       "  <thead>\n",
       "    <tr style=\"text-align: right;\">\n",
       "      <th></th>\n",
       "      <th>Idade</th>\n",
       "      <th>Nível</th>\n",
       "      <th>Arma</th>\n",
       "      <th>Classe_Escudeiro</th>\n",
       "      <th>Classe_Guerreiro</th>\n",
       "      <th>Classe_Mago</th>\n",
       "    </tr>\n",
       "  </thead>\n",
       "  <tbody>\n",
       "    <tr>\n",
       "      <th>0</th>\n",
       "      <td>12</td>\n",
       "      <td>20</td>\n",
       "      <td>Ultra Greatsword</td>\n",
       "      <td>False</td>\n",
       "      <td>True</td>\n",
       "      <td>False</td>\n",
       "    </tr>\n",
       "    <tr>\n",
       "      <th>1</th>\n",
       "      <td>16</td>\n",
       "      <td>2</td>\n",
       "      <td>None</td>\n",
       "      <td>True</td>\n",
       "      <td>False</td>\n",
       "      <td>False</td>\n",
       "    </tr>\n",
       "    <tr>\n",
       "      <th>2</th>\n",
       "      <td>21</td>\n",
       "      <td>7</td>\n",
       "      <td>Espada</td>\n",
       "      <td>False</td>\n",
       "      <td>True</td>\n",
       "      <td>False</td>\n",
       "    </tr>\n",
       "    <tr>\n",
       "      <th>3</th>\n",
       "      <td>37</td>\n",
       "      <td>18</td>\n",
       "      <td>Espada pincél</td>\n",
       "      <td>False</td>\n",
       "      <td>False</td>\n",
       "      <td>True</td>\n",
       "    </tr>\n",
       "    <tr>\n",
       "      <th>4</th>\n",
       "      <td>57</td>\n",
       "      <td>15</td>\n",
       "      <td>Cajado</td>\n",
       "      <td>False</td>\n",
       "      <td>False</td>\n",
       "      <td>True</td>\n",
       "    </tr>\n",
       "  </tbody>\n",
       "</table>\n",
       "</div>"
      ],
      "text/plain": [
       "   Idade  Nível              Arma  Classe_Escudeiro  Classe_Guerreiro  \\\n",
       "0     12     20  Ultra Greatsword             False              True   \n",
       "1     16      2              None              True             False   \n",
       "2     21      7            Espada             False              True   \n",
       "3     37     18     Espada pincél             False             False   \n",
       "4     57     15            Cajado             False             False   \n",
       "\n",
       "   Classe_Mago  \n",
       "0        False  \n",
       "1        False  \n",
       "2        False  \n",
       "3         True  \n",
       "4         True  "
      ]
     },
     "execution_count": 44,
     "metadata": {},
     "output_type": "execute_result"
    }
   ],
   "source": [
    "#A guilda precisa analisar a classe dos aventureiros disponíveis.\n",
    "#Usaremos para isso get_dummies:\n",
    "pd.get_dummies(df, columns=['Classe']) #O parâmetro columns seleciona as colunas a serem analisadas.\n",
    "#A guilda com isso analisa a classe de cada um de seus elementos"
   ]
  },
  {
   "cell_type": "markdown",
   "id": "8276176b-f337-4058-a155-7ef496a618d4",
   "metadata": {},
   "source": [
    "## 🔝 6. Pivot\n",
    "#### Esse módulo cria um dataframe com base em um atributo pivot"
   ]
  },
  {
   "cell_type": "code",
   "execution_count": 55,
   "id": "42a9098b-aff1-4146-8b6b-ea0af0d37911",
   "metadata": {},
   "outputs": [
    {
     "data": {
      "text/html": [
       "<div>\n",
       "<style scoped>\n",
       "    .dataframe tbody tr th:only-of-type {\n",
       "        vertical-align: middle;\n",
       "    }\n",
       "\n",
       "    .dataframe tbody tr th {\n",
       "        vertical-align: top;\n",
       "    }\n",
       "\n",
       "    .dataframe thead tr th {\n",
       "        text-align: left;\n",
       "    }\n",
       "</style>\n",
       "<table border=\"1\" class=\"dataframe\">\n",
       "  <thead>\n",
       "    <tr>\n",
       "      <th></th>\n",
       "      <th colspan=\"5\" halign=\"left\">Arma</th>\n",
       "      <th colspan=\"5\" halign=\"left\">Classe</th>\n",
       "    </tr>\n",
       "    <tr>\n",
       "      <th>Nível</th>\n",
       "      <th>2</th>\n",
       "      <th>7</th>\n",
       "      <th>15</th>\n",
       "      <th>18</th>\n",
       "      <th>20</th>\n",
       "      <th>2</th>\n",
       "      <th>7</th>\n",
       "      <th>15</th>\n",
       "      <th>18</th>\n",
       "      <th>20</th>\n",
       "    </tr>\n",
       "  </thead>\n",
       "  <tbody>\n",
       "    <tr>\n",
       "      <th>0</th>\n",
       "      <td>NaN</td>\n",
       "      <td>NaN</td>\n",
       "      <td>NaN</td>\n",
       "      <td>NaN</td>\n",
       "      <td>Ultra Greatsword</td>\n",
       "      <td>NaN</td>\n",
       "      <td>NaN</td>\n",
       "      <td>NaN</td>\n",
       "      <td>NaN</td>\n",
       "      <td>Guerreiro</td>\n",
       "    </tr>\n",
       "    <tr>\n",
       "      <th>1</th>\n",
       "      <td>None</td>\n",
       "      <td>NaN</td>\n",
       "      <td>NaN</td>\n",
       "      <td>NaN</td>\n",
       "      <td>NaN</td>\n",
       "      <td>Escudeiro</td>\n",
       "      <td>NaN</td>\n",
       "      <td>NaN</td>\n",
       "      <td>NaN</td>\n",
       "      <td>NaN</td>\n",
       "    </tr>\n",
       "    <tr>\n",
       "      <th>2</th>\n",
       "      <td>NaN</td>\n",
       "      <td>Espada</td>\n",
       "      <td>NaN</td>\n",
       "      <td>NaN</td>\n",
       "      <td>NaN</td>\n",
       "      <td>NaN</td>\n",
       "      <td>Guerreiro</td>\n",
       "      <td>NaN</td>\n",
       "      <td>NaN</td>\n",
       "      <td>NaN</td>\n",
       "    </tr>\n",
       "    <tr>\n",
       "      <th>3</th>\n",
       "      <td>NaN</td>\n",
       "      <td>NaN</td>\n",
       "      <td>NaN</td>\n",
       "      <td>Espada pincél</td>\n",
       "      <td>NaN</td>\n",
       "      <td>NaN</td>\n",
       "      <td>NaN</td>\n",
       "      <td>NaN</td>\n",
       "      <td>Mago</td>\n",
       "      <td>NaN</td>\n",
       "    </tr>\n",
       "    <tr>\n",
       "      <th>4</th>\n",
       "      <td>NaN</td>\n",
       "      <td>NaN</td>\n",
       "      <td>Cajado</td>\n",
       "      <td>NaN</td>\n",
       "      <td>NaN</td>\n",
       "      <td>NaN</td>\n",
       "      <td>NaN</td>\n",
       "      <td>Mago</td>\n",
       "      <td>NaN</td>\n",
       "      <td>NaN</td>\n",
       "    </tr>\n",
       "  </tbody>\n",
       "</table>\n",
       "</div>"
      ],
      "text/plain": [
       "       Arma                                                      Classe  \\\n",
       "Nível    2       7       15             18                20         2    \n",
       "0       NaN     NaN     NaN            NaN  Ultra Greatsword        NaN   \n",
       "1      None     NaN     NaN            NaN               NaN  Escudeiro   \n",
       "2       NaN  Espada     NaN            NaN               NaN        NaN   \n",
       "3       NaN     NaN     NaN  Espada pincél               NaN        NaN   \n",
       "4       NaN     NaN  Cajado            NaN               NaN        NaN   \n",
       "\n",
       "                                         \n",
       "Nível         7     15    18         20  \n",
       "0            NaN   NaN   NaN  Guerreiro  \n",
       "1            NaN   NaN   NaN        NaN  \n",
       "2      Guerreiro   NaN   NaN        NaN  \n",
       "3            NaN   NaN  Mago        NaN  \n",
       "4            NaN  Mago   NaN        NaN  "
      ]
     },
     "execution_count": 55,
     "metadata": {},
     "output_type": "execute_result"
    }
   ],
   "source": [
    "#A guilda precisa agora analisar uma correlação entre as armas e classes baseadas no nível.\n",
    "#Para essa análise, usamos pivot, que separa os demais para cada pivot.\n",
    "pd.pivot(df[['Nível','Arma', 'Classe']], columns='Nível') #columns, parâmetro para a coluna base da análise"
   ]
  },
  {
   "cell_type": "markdown",
   "id": "8b9306a9-a563-4dfc-a579-ec18f223fe10",
   "metadata": {},
   "source": [
    "### Baseando-se nos módulos apresentados, espera-se que os aventureiros usem essas ferramentas para lhes ajudar nas próximas quests."
   ]
  },
  {
   "cell_type": "markdown",
   "id": "aecab7f9-4c0f-4598-a6bc-6a9ceb85cf26",
   "metadata": {},
   "source": [
    "### Referências\n",
    "\n",
    "Cassar, Daniel. LMA-203 1.0 - Tratamento de dados com pandas. Acesso em: 24 ago. 2025."
   ]
  }
 ],
 "metadata": {
  "kernelspec": {
   "display_name": "Python 3 (ipykernel)",
   "language": "python",
   "name": "python3"
  },
  "language_info": {
   "codemirror_mode": {
    "name": "ipython",
    "version": 3
   },
   "file_extension": ".py",
   "mimetype": "text/x-python",
   "name": "python",
   "nbconvert_exporter": "python",
   "pygments_lexer": "ipython3",
   "version": "3.12.7"
  }
 },
 "nbformat": 4,
 "nbformat_minor": 5
}
